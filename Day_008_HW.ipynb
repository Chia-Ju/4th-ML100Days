{
 "cells": [
  {
   "cell_type": "markdown",
   "metadata": {},
   "source": [
    "# [作業目標]\n",
    "- 對資料做更多處理 : 顯示特定欄位的統計值與直方圖"
   ]
  },
  {
   "cell_type": "markdown",
   "metadata": {},
   "source": [
    "# [作業重點]\n",
    "- 試著顯示特定欄位的基礎統計數值 (In[4], Out[4], Hint : describe())\n",
    "- 試著顯示特定欄位的直方圖 (In[5], Out[5], Hint : .hist())"
   ]
  },
  {
   "cell_type": "code",
   "execution_count": 16,
   "metadata": {},
   "outputs": [],
   "source": [
    "# Import 需要的套件\n",
    "import os\n",
    "import numpy as np\n",
    "import pandas as pd\n",
    "\n",
    "# 設定 data_path\n",
    "dir_data = './data/'"
   ]
  },
  {
   "cell_type": "code",
   "execution_count": 17,
   "metadata": {},
   "outputs": [],
   "source": [
    "f_app_train = os.path.join(dir_data, 'application_train.csv')\n",
    "app_train = pd.read_csv(f_app_train)"
   ]
  },
  {
   "cell_type": "code",
   "execution_count": 18,
   "metadata": {},
   "outputs": [],
   "source": [
    "import matplotlib.pyplot as plt\n",
    "%matplotlib inline"
   ]
  },
  {
   "cell_type": "markdown",
   "metadata": {},
   "source": [
    "## 練習時間"
   ]
  },
  {
   "cell_type": "markdown",
   "metadata": {},
   "source": [
    "觀察有興趣的欄位的資料分佈，並嘗試找出有趣的訊息\n",
    "#### Eg\n",
    "- 計算任意欄位的平均數及標準差\n",
    "- 畫出任意欄位的[直方圖](https://zh.wikipedia.org/zh-tw/%E7%9B%B4%E6%96%B9%E5%9B%BE)\n",
    "\n",
    "### Hints:\n",
    "- [Descriptive Statistics For pandas Dataframe](https://chrisalbon.com/python/data_wrangling/pandas_dataframe_descriptive_stats/)\n",
    "- [pandas 中的繪圖函數](https://amaozhao.gitbooks.io/pandas-notebook/content/pandas%E4%B8%AD%E7%9A%84%E7%BB%98%E5%9B%BE%E5%87%BD%E6%95%B0.html)\n"
   ]
  },
  {
   "cell_type": "code",
   "execution_count": 4,
   "metadata": {},
   "outputs": [
    {
     "data": {
      "text/plain": [
       "369446.4605400129"
      ]
     },
     "execution_count": 4,
     "metadata": {},
     "output_type": "execute_result"
    }
   ],
   "source": [
    "app_train['AMT_GOODS_PRICE'].mean()\n",
    "app_train['AMT_GOODS_PRICE'].std()"
   ]
  },
  {
   "cell_type": "code",
   "execution_count": 5,
   "metadata": {},
   "outputs": [
    {
     "data": {
      "text/plain": [
       "count    3.072330e+05\n",
       "mean     5.383962e+05\n",
       "std      3.694465e+05\n",
       "min      4.050000e+04\n",
       "25%      2.385000e+05\n",
       "50%      4.500000e+05\n",
       "75%      6.795000e+05\n",
       "max      4.050000e+06\n",
       "Name: AMT_GOODS_PRICE, dtype: float64"
      ]
     },
     "execution_count": 5,
     "metadata": {},
     "output_type": "execute_result"
    }
   ],
   "source": [
    "app_train['AMT_GOODS_PRICE'].describe()"
   ]
  },
  {
   "cell_type": "code",
   "execution_count": 6,
   "metadata": {},
   "outputs": [
    {
     "data": {
      "text/html": [
       "<div>\n",
       "<style scoped>\n",
       "    .dataframe tbody tr th:only-of-type {\n",
       "        vertical-align: middle;\n",
       "    }\n",
       "\n",
       "    .dataframe tbody tr th {\n",
       "        vertical-align: top;\n",
       "    }\n",
       "\n",
       "    .dataframe thead th {\n",
       "        text-align: right;\n",
       "    }\n",
       "</style>\n",
       "<table border=\"1\" class=\"dataframe\">\n",
       "  <thead>\n",
       "    <tr style=\"text-align: right;\">\n",
       "      <th></th>\n",
       "      <th>SK_ID_CURR</th>\n",
       "      <th>TARGET</th>\n",
       "      <th>NAME_CONTRACT_TYPE</th>\n",
       "      <th>CODE_GENDER</th>\n",
       "      <th>FLAG_OWN_CAR</th>\n",
       "      <th>FLAG_OWN_REALTY</th>\n",
       "      <th>CNT_CHILDREN</th>\n",
       "      <th>AMT_INCOME_TOTAL</th>\n",
       "      <th>AMT_CREDIT</th>\n",
       "      <th>AMT_ANNUITY</th>\n",
       "      <th>...</th>\n",
       "      <th>FLAG_DOCUMENT_18</th>\n",
       "      <th>FLAG_DOCUMENT_19</th>\n",
       "      <th>FLAG_DOCUMENT_20</th>\n",
       "      <th>FLAG_DOCUMENT_21</th>\n",
       "      <th>AMT_REQ_CREDIT_BUREAU_HOUR</th>\n",
       "      <th>AMT_REQ_CREDIT_BUREAU_DAY</th>\n",
       "      <th>AMT_REQ_CREDIT_BUREAU_WEEK</th>\n",
       "      <th>AMT_REQ_CREDIT_BUREAU_MON</th>\n",
       "      <th>AMT_REQ_CREDIT_BUREAU_QRT</th>\n",
       "      <th>AMT_REQ_CREDIT_BUREAU_YEAR</th>\n",
       "    </tr>\n",
       "  </thead>\n",
       "  <tbody>\n",
       "    <tr>\n",
       "      <td>0</td>\n",
       "      <td>100002</td>\n",
       "      <td>1</td>\n",
       "      <td>Cash loans</td>\n",
       "      <td>M</td>\n",
       "      <td>N</td>\n",
       "      <td>Y</td>\n",
       "      <td>0</td>\n",
       "      <td>202500.0</td>\n",
       "      <td>406597.5</td>\n",
       "      <td>24700.5</td>\n",
       "      <td>...</td>\n",
       "      <td>0</td>\n",
       "      <td>0</td>\n",
       "      <td>0</td>\n",
       "      <td>0</td>\n",
       "      <td>0.0</td>\n",
       "      <td>0.0</td>\n",
       "      <td>0.0</td>\n",
       "      <td>0.0</td>\n",
       "      <td>0.0</td>\n",
       "      <td>1.0</td>\n",
       "    </tr>\n",
       "    <tr>\n",
       "      <td>1</td>\n",
       "      <td>100003</td>\n",
       "      <td>0</td>\n",
       "      <td>Cash loans</td>\n",
       "      <td>F</td>\n",
       "      <td>N</td>\n",
       "      <td>N</td>\n",
       "      <td>0</td>\n",
       "      <td>270000.0</td>\n",
       "      <td>1293502.5</td>\n",
       "      <td>35698.5</td>\n",
       "      <td>...</td>\n",
       "      <td>0</td>\n",
       "      <td>0</td>\n",
       "      <td>0</td>\n",
       "      <td>0</td>\n",
       "      <td>0.0</td>\n",
       "      <td>0.0</td>\n",
       "      <td>0.0</td>\n",
       "      <td>0.0</td>\n",
       "      <td>0.0</td>\n",
       "      <td>0.0</td>\n",
       "    </tr>\n",
       "    <tr>\n",
       "      <td>2</td>\n",
       "      <td>100004</td>\n",
       "      <td>0</td>\n",
       "      <td>Revolving loans</td>\n",
       "      <td>M</td>\n",
       "      <td>Y</td>\n",
       "      <td>Y</td>\n",
       "      <td>0</td>\n",
       "      <td>67500.0</td>\n",
       "      <td>135000.0</td>\n",
       "      <td>6750.0</td>\n",
       "      <td>...</td>\n",
       "      <td>0</td>\n",
       "      <td>0</td>\n",
       "      <td>0</td>\n",
       "      <td>0</td>\n",
       "      <td>0.0</td>\n",
       "      <td>0.0</td>\n",
       "      <td>0.0</td>\n",
       "      <td>0.0</td>\n",
       "      <td>0.0</td>\n",
       "      <td>0.0</td>\n",
       "    </tr>\n",
       "    <tr>\n",
       "      <td>3</td>\n",
       "      <td>100006</td>\n",
       "      <td>0</td>\n",
       "      <td>Cash loans</td>\n",
       "      <td>F</td>\n",
       "      <td>N</td>\n",
       "      <td>Y</td>\n",
       "      <td>0</td>\n",
       "      <td>135000.0</td>\n",
       "      <td>312682.5</td>\n",
       "      <td>29686.5</td>\n",
       "      <td>...</td>\n",
       "      <td>0</td>\n",
       "      <td>0</td>\n",
       "      <td>0</td>\n",
       "      <td>0</td>\n",
       "      <td>NaN</td>\n",
       "      <td>NaN</td>\n",
       "      <td>NaN</td>\n",
       "      <td>NaN</td>\n",
       "      <td>NaN</td>\n",
       "      <td>NaN</td>\n",
       "    </tr>\n",
       "    <tr>\n",
       "      <td>4</td>\n",
       "      <td>100007</td>\n",
       "      <td>0</td>\n",
       "      <td>Cash loans</td>\n",
       "      <td>M</td>\n",
       "      <td>N</td>\n",
       "      <td>Y</td>\n",
       "      <td>0</td>\n",
       "      <td>121500.0</td>\n",
       "      <td>513000.0</td>\n",
       "      <td>21865.5</td>\n",
       "      <td>...</td>\n",
       "      <td>0</td>\n",
       "      <td>0</td>\n",
       "      <td>0</td>\n",
       "      <td>0</td>\n",
       "      <td>0.0</td>\n",
       "      <td>0.0</td>\n",
       "      <td>0.0</td>\n",
       "      <td>0.0</td>\n",
       "      <td>0.0</td>\n",
       "      <td>0.0</td>\n",
       "    </tr>\n",
       "  </tbody>\n",
       "</table>\n",
       "<p>5 rows × 122 columns</p>\n",
       "</div>"
      ],
      "text/plain": [
       "   SK_ID_CURR  TARGET NAME_CONTRACT_TYPE CODE_GENDER FLAG_OWN_CAR  \\\n",
       "0      100002       1         Cash loans           M            N   \n",
       "1      100003       0         Cash loans           F            N   \n",
       "2      100004       0    Revolving loans           M            Y   \n",
       "3      100006       0         Cash loans           F            N   \n",
       "4      100007       0         Cash loans           M            N   \n",
       "\n",
       "  FLAG_OWN_REALTY  CNT_CHILDREN  AMT_INCOME_TOTAL  AMT_CREDIT  AMT_ANNUITY  \\\n",
       "0               Y             0          202500.0    406597.5      24700.5   \n",
       "1               N             0          270000.0   1293502.5      35698.5   \n",
       "2               Y             0           67500.0    135000.0       6750.0   \n",
       "3               Y             0          135000.0    312682.5      29686.5   \n",
       "4               Y             0          121500.0    513000.0      21865.5   \n",
       "\n",
       "   ...  FLAG_DOCUMENT_18 FLAG_DOCUMENT_19 FLAG_DOCUMENT_20 FLAG_DOCUMENT_21  \\\n",
       "0  ...                 0                0                0                0   \n",
       "1  ...                 0                0                0                0   \n",
       "2  ...                 0                0                0                0   \n",
       "3  ...                 0                0                0                0   \n",
       "4  ...                 0                0                0                0   \n",
       "\n",
       "  AMT_REQ_CREDIT_BUREAU_HOUR AMT_REQ_CREDIT_BUREAU_DAY  \\\n",
       "0                        0.0                       0.0   \n",
       "1                        0.0                       0.0   \n",
       "2                        0.0                       0.0   \n",
       "3                        NaN                       NaN   \n",
       "4                        0.0                       0.0   \n",
       "\n",
       "   AMT_REQ_CREDIT_BUREAU_WEEK  AMT_REQ_CREDIT_BUREAU_MON  \\\n",
       "0                         0.0                        0.0   \n",
       "1                         0.0                        0.0   \n",
       "2                         0.0                        0.0   \n",
       "3                         NaN                        NaN   \n",
       "4                         0.0                        0.0   \n",
       "\n",
       "   AMT_REQ_CREDIT_BUREAU_QRT  AMT_REQ_CREDIT_BUREAU_YEAR  \n",
       "0                        0.0                         1.0  \n",
       "1                        0.0                         0.0  \n",
       "2                        0.0                         0.0  \n",
       "3                        NaN                         NaN  \n",
       "4                        0.0                         0.0  \n",
       "\n",
       "[5 rows x 122 columns]"
      ]
     },
     "execution_count": 6,
     "metadata": {},
     "output_type": "execute_result"
    }
   ],
   "source": [
    "app_train.head()\n"
   ]
  },
  {
   "cell_type": "code",
   "execution_count": 15,
   "metadata": {},
   "outputs": [
    {
     "data": {
      "text/plain": [
       "<matplotlib.axes._subplots.AxesSubplot at 0x11e0dd150>"
      ]
     },
     "execution_count": 15,
     "metadata": {},
     "output_type": "execute_result"
    },
    {
     "data": {
      "image/png": "[encoded data removed]",
      "text/plain": [
       "<Figure size 432x288 with 1 Axes>"
      ]
     },
     "metadata": {
      "needs_background": "light"
     },
     "output_type": "display_data"
    }
   ],
   "source": [
    "app_train['AMT_GOODS_PRICE'].hist()"
   ]
  },
  {
   "cell_type": "code",
   "execution_count": 14,
   "metadata": {},
   "outputs": [
    {
     "name": "stdout",
     "output_type": "stream",
     "text": [
      "                            SK_ID_CURR    TARGET  CNT_CHILDREN  \\\n",
      "SK_ID_CURR                    1.000000 -0.002108     -0.001129   \n",
      "TARGET                       -0.002108  1.000000      0.019187   \n",
      "CNT_CHILDREN                 -0.001129  0.019187      1.000000   \n",
      "AMT_INCOME_TOTAL             -0.001820 -0.003982      0.012882   \n",
      "AMT_CREDIT                   -0.000343 -0.030369      0.002145   \n",
      "...                                ...       ...           ...   \n",
      "AMT_REQ_CREDIT_BUREAU_DAY    -0.002193  0.002704     -0.000366   \n",
      "AMT_REQ_CREDIT_BUREAU_WEEK    0.002099  0.000788     -0.002436   \n",
      "AMT_REQ_CREDIT_BUREAU_MON     0.000485 -0.012462     -0.010808   \n",
      "AMT_REQ_CREDIT_BUREAU_QRT     0.001025 -0.002022     -0.007836   \n",
      "AMT_REQ_CREDIT_BUREAU_YEAR    0.004659  0.019930     -0.041550   \n",
      "\n",
      "                            AMT_INCOME_TOTAL  AMT_CREDIT  AMT_ANNUITY  \\\n",
      "SK_ID_CURR                         -0.001820   -0.000343    -0.000433   \n",
      "TARGET                             -0.003982   -0.030369    -0.012817   \n",
      "CNT_CHILDREN                        0.012882    0.002145     0.021374   \n",
      "AMT_INCOME_TOTAL                    1.000000    0.156870     0.191657   \n",
      "AMT_CREDIT                          0.156870    1.000000     0.770138   \n",
      "...                                      ...         ...          ...   \n",
      "AMT_REQ_CREDIT_BUREAU_DAY           0.002944    0.004238     0.002185   \n",
      "AMT_REQ_CREDIT_BUREAU_WEEK          0.002387   -0.001275     0.013881   \n",
      "AMT_REQ_CREDIT_BUREAU_MON           0.024700    0.054451     0.039148   \n",
      "AMT_REQ_CREDIT_BUREAU_QRT           0.004859    0.015925     0.010124   \n",
      "AMT_REQ_CREDIT_BUREAU_YEAR          0.011690   -0.048448    -0.011320   \n",
      "\n",
      "                            AMT_GOODS_PRICE  REGION_POPULATION_RELATIVE  \\\n",
      "SK_ID_CURR                        -0.000232                    0.000849   \n",
      "TARGET                            -0.039645                   -0.037227   \n",
      "CNT_CHILDREN                      -0.001827                   -0.025573   \n",
      "AMT_INCOME_TOTAL                   0.159610                    0.074796   \n",
      "AMT_CREDIT                         0.986968                    0.099738   \n",
      "...                                     ...                         ...   \n",
      "AMT_REQ_CREDIT_BUREAU_DAY          0.004677                    0.001399   \n",
      "AMT_REQ_CREDIT_BUREAU_WEEK        -0.001007                   -0.002149   \n",
      "AMT_REQ_CREDIT_BUREAU_MON          0.056422                    0.078607   \n",
      "AMT_REQ_CREDIT_BUREAU_QRT          0.016432                   -0.001279   \n",
      "AMT_REQ_CREDIT_BUREAU_YEAR        -0.050998                    0.001003   \n",
      "\n",
      "                            DAYS_BIRTH  DAYS_EMPLOYED  ...  FLAG_DOCUMENT_18  \\\n",
      "SK_ID_CURR                   -0.001500       0.001366  ...          0.000509   \n",
      "TARGET                        0.078239      -0.044932  ...         -0.007952   \n",
      "CNT_CHILDREN                  0.330938      -0.239818  ...          0.004031   \n",
      "AMT_INCOME_TOTAL              0.027261      -0.064223  ...          0.003130   \n",
      "AMT_CREDIT                   -0.055436      -0.066838  ...          0.034329   \n",
      "...                                ...            ...  ...               ...   \n",
      "AMT_REQ_CREDIT_BUREAU_DAY     0.002255       0.000472  ...          0.013281   \n",
      "AMT_REQ_CREDIT_BUREAU_WEEK   -0.001336       0.003072  ...         -0.004640   \n",
      "AMT_REQ_CREDIT_BUREAU_MON     0.001372      -0.034457  ...         -0.001565   \n",
      "AMT_REQ_CREDIT_BUREAU_QRT    -0.011799       0.015345  ...         -0.005125   \n",
      "AMT_REQ_CREDIT_BUREAU_YEAR   -0.071983       0.049988  ...         -0.047432   \n",
      "\n",
      "                            FLAG_DOCUMENT_19  FLAG_DOCUMENT_20  \\\n",
      "SK_ID_CURR                          0.000167          0.001073   \n",
      "TARGET                             -0.001358          0.000215   \n",
      "CNT_CHILDREN                        0.000864          0.000988   \n",
      "AMT_INCOME_TOTAL                    0.002408          0.000242   \n",
      "AMT_CREDIT                          0.021082          0.031023   \n",
      "...                                      ...               ...   \n",
      "AMT_REQ_CREDIT_BUREAU_DAY           0.001126         -0.000120   \n",
      "AMT_REQ_CREDIT_BUREAU_WEEK         -0.001275         -0.001770   \n",
      "AMT_REQ_CREDIT_BUREAU_MON          -0.002729          0.001285   \n",
      "AMT_REQ_CREDIT_BUREAU_QRT          -0.001575         -0.001010   \n",
      "AMT_REQ_CREDIT_BUREAU_YEAR         -0.007009         -0.012126   \n",
      "\n",
      "                            FLAG_DOCUMENT_21  AMT_REQ_CREDIT_BUREAU_HOUR  \\\n",
      "SK_ID_CURR                          0.000282                   -0.002672   \n",
      "TARGET                              0.003709                    0.000930   \n",
      "CNT_CHILDREN                       -0.002450                   -0.000410   \n",
      "AMT_INCOME_TOTAL                   -0.000589                    0.000709   \n",
      "AMT_CREDIT                         -0.016148                   -0.003906   \n",
      "...                                      ...                         ...   \n",
      "AMT_REQ_CREDIT_BUREAU_DAY          -0.001130                    0.230374   \n",
      "AMT_REQ_CREDIT_BUREAU_WEEK          0.000081                    0.004706   \n",
      "AMT_REQ_CREDIT_BUREAU_MON          -0.003612                   -0.000018   \n",
      "AMT_REQ_CREDIT_BUREAU_QRT          -0.002004                   -0.002716   \n",
      "AMT_REQ_CREDIT_BUREAU_YEAR         -0.005457                   -0.004597   \n",
      "\n",
      "                            AMT_REQ_CREDIT_BUREAU_DAY  \\\n",
      "SK_ID_CURR                                  -0.002193   \n",
      "TARGET                                       0.002704   \n",
      "CNT_CHILDREN                                -0.000366   \n",
      "AMT_INCOME_TOTAL                             0.002944   \n",
      "AMT_CREDIT                                   0.004238   \n",
      "...                                               ...   \n",
      "AMT_REQ_CREDIT_BUREAU_DAY                    1.000000   \n",
      "AMT_REQ_CREDIT_BUREAU_WEEK                   0.217412   \n",
      "AMT_REQ_CREDIT_BUREAU_MON                   -0.005258   \n",
      "AMT_REQ_CREDIT_BUREAU_QRT                   -0.004416   \n",
      "AMT_REQ_CREDIT_BUREAU_YEAR                  -0.003355   \n",
      "\n",
      "                            AMT_REQ_CREDIT_BUREAU_WEEK  \\\n",
      "SK_ID_CURR                                    0.002099   \n",
      "TARGET                                        0.000788   \n",
      "CNT_CHILDREN                                 -0.002436   \n",
      "AMT_INCOME_TOTAL                              0.002387   \n",
      "AMT_CREDIT                                   -0.001275   \n",
      "...                                                ...   \n",
      "AMT_REQ_CREDIT_BUREAU_DAY                     0.217412   \n",
      "AMT_REQ_CREDIT_BUREAU_WEEK                    1.000000   \n",
      "AMT_REQ_CREDIT_BUREAU_MON                    -0.014096   \n",
      "AMT_REQ_CREDIT_BUREAU_QRT                    -0.015115   \n",
      "AMT_REQ_CREDIT_BUREAU_YEAR                    0.018917   \n",
      "\n",
      "                            AMT_REQ_CREDIT_BUREAU_MON  \\\n",
      "SK_ID_CURR                                   0.000485   \n",
      "TARGET                                      -0.012462   \n",
      "CNT_CHILDREN                                -0.010808   \n",
      "AMT_INCOME_TOTAL                             0.024700   \n",
      "AMT_CREDIT                                   0.054451   \n",
      "...                                               ...   \n",
      "AMT_REQ_CREDIT_BUREAU_DAY                   -0.005258   \n",
      "AMT_REQ_CREDIT_BUREAU_WEEK                  -0.014096   \n",
      "AMT_REQ_CREDIT_BUREAU_MON                    1.000000   \n",
      "AMT_REQ_CREDIT_BUREAU_QRT                   -0.007789   \n",
      "AMT_REQ_CREDIT_BUREAU_YEAR                  -0.004975   \n",
      "\n",
      "                            AMT_REQ_CREDIT_BUREAU_QRT  \\\n",
      "SK_ID_CURR                                   0.001025   \n",
      "TARGET                                      -0.002022   \n",
      "CNT_CHILDREN                                -0.007836   \n",
      "AMT_INCOME_TOTAL                             0.004859   \n",
      "AMT_CREDIT                                   0.015925   \n",
      "...                                               ...   \n",
      "AMT_REQ_CREDIT_BUREAU_DAY                   -0.004416   \n",
      "AMT_REQ_CREDIT_BUREAU_WEEK                  -0.015115   \n",
      "AMT_REQ_CREDIT_BUREAU_MON                   -0.007789   \n",
      "AMT_REQ_CREDIT_BUREAU_QRT                    1.000000   \n",
      "AMT_REQ_CREDIT_BUREAU_YEAR                   0.076208   \n",
      "\n",
      "                            AMT_REQ_CREDIT_BUREAU_YEAR  \n",
      "SK_ID_CURR                                    0.004659  \n",
      "TARGET                                        0.019930  \n",
      "CNT_CHILDREN                                 -0.041550  \n",
      "AMT_INCOME_TOTAL                              0.011690  \n",
      "AMT_CREDIT                                   -0.048448  \n",
      "...                                                ...  \n",
      "AMT_REQ_CREDIT_BUREAU_DAY                    -0.003355  \n",
      "AMT_REQ_CREDIT_BUREAU_WEEK                    0.018917  \n",
      "AMT_REQ_CREDIT_BUREAU_MON                    -0.004975  \n",
      "AMT_REQ_CREDIT_BUREAU_QRT                     0.076208  \n",
      "AMT_REQ_CREDIT_BUREAU_YEAR                    1.000000  \n",
      "\n",
      "[106 rows x 106 columns]\n"
     ]
    }
   ],
   "source": [
    "aa=app_train.corr()\n",
    "print (aa)"
   ]
  },
  {
   "cell_type": "code",
   "execution_count": 19,
   "metadata": {},
   "outputs": [
    {
     "data": {
      "text/plain": [
       "<matplotlib.collections.PathCollection at 0x10ad5bdd0>"
      ]
     },
     "execution_count": 19,
     "metadata": {},
     "output_type": "execute_result"
    },
    {
     "data": {
      "image/png": "[encoded data removed]",
      "text/plain": [
       "<Figure size 432x288 with 1 Axes>"
      ]
     },
     "metadata": {
      "needs_background": "light"
     },
     "output_type": "display_data"
    }
   ],
   "source": [
    "plt.scatter(app_train['AMT_GOODS_PRICE'], app_train['TARGET'])"
   ]
  },
  {
   "cell_type": "code",
   "execution_count": null,
   "metadata": {},
   "outputs": [],
   "source": []
  }
 ],
 "metadata": {
  "kernelspec": {
   "display_name": "Python 3",
   "language": "python",
   "name": "python3"
  },
  "language_info": {
   "codemirror_mode": {
    "name": "ipython",
    "version": 3
   },
   "file_extension": ".py",
   "mimetype": "text/x-python",
   "name": "python",
   "nbconvert_exporter": "python",
   "pygments_lexer": "ipython3",
   "version": "3.7.4"
  }
 },
 "nbformat": 4,
 "nbformat_minor": 2
}
